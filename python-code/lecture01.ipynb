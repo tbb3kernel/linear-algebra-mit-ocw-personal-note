{
 "cells": [
  {
   "cell_type": "markdown",
   "metadata": {},
   "source": [
    "# Lecture 1 Geometry of Linear Algebra"
   ]
  },
  {
   "cell_type": "markdown",
   "metadata": {},
   "source": [
    "## Systems of Linear Equations\n",
    "\n",
    "Is list of linear equations. i.e.  \n",
    "<span class=\"math-inline\">2x \\+ y \\= 3</span>  \n",
    "<span class=\"math-inline\">x \\- 2y \\= \\-1</span>"
   ]
  },
  {
   "cell_type": "markdown",
   "metadata": {},
   "source": [
    "## Use of `SymPy` to solve the above system of equations\n",
    "\n",
    "If you haven't install SymPy library yet please run command\n",
    "`pip install sympy` or if you use conda package manager then run\n",
    "`conda install sympy -y` should install the library."
   ]
  },
  {
   "cell_type": "code",
   "execution_count": 1,
   "metadata": {},
   "outputs": [],
   "source": [
    "# pip:\n",
    "# %pip install sympy\n",
    "# conda\n",
    "# %conda install sympy -y"
   ]
  },
  {
   "cell_type": "code",
   "execution_count": 2,
   "metadata": {},
   "outputs": [],
   "source": [
    "import matplotlib.pyplot as plt\n",
    "import sympy as syp"
   ]
  },
  {
   "cell_type": "code",
   "execution_count": 3,
   "metadata": {},
   "outputs": [],
   "source": [
    "# help(syp.Symbol)"
   ]
  },
  {
   "cell_type": "code",
   "execution_count": 4,
   "metadata": {},
   "outputs": [
    {
     "data": {
      "text/plain": [
       "(sympy.core.symbol.Symbol, sympy.core.symbol.Symbol)"
      ]
     },
     "execution_count": 4,
     "metadata": {},
     "output_type": "execute_result"
    }
   ],
   "source": [
    "x, y = syp.Symbol('x'), syp.Symbol('y')\n",
    "type(x), type(y)"
   ]
  },
  {
   "cell_type": "code",
   "execution_count": 5,
   "metadata": {},
   "outputs": [],
   "source": [
    "# help(syp.Eq)"
   ]
  },
  {
   "cell_type": "code",
   "execution_count": 6,
   "metadata": {},
   "outputs": [
    {
     "data": {
      "text/plain": [
       "(sympy.core.relational.Equality, sympy.core.relational.Equality)"
      ]
     },
     "execution_count": 6,
     "metadata": {},
     "output_type": "execute_result"
    }
   ],
   "source": [
    "eq1 = syp.Eq(2*x + y, 3)\n",
    "eq2 = syp.Eq(x - 2*y, -1)\n",
    "type(eq1), type(eq2)"
   ]
  },
  {
   "cell_type": "markdown",
   "metadata": {},
   "source": [
    "## Solve the systems of equations using Solver"
   ]
  },
  {
   "cell_type": "code",
   "execution_count": 7,
   "metadata": {},
   "outputs": [],
   "source": [
    "# help(syp.solvers.solve)"
   ]
  },
  {
   "cell_type": "code",
   "execution_count": 8,
   "metadata": {},
   "outputs": [
    {
     "name": "stdout",
     "output_type": "stream",
     "text": [
      "x = 1, y = 1\n"
     ]
    }
   ],
   "source": [
    "solution = syp.solvers.solve([eq1, eq2], (x, y))\n",
    "print(f\"x = {solution[x]}, y = {solution[y]}\")"
   ]
  },
  {
   "cell_type": "markdown",
   "metadata": {},
   "source": [
    "This is probably things that you have done in high school.    \n",
    "But let's visualize system of linear equations in several useful ways."
   ]
  },
  {
   "cell_type": "markdown",
   "metadata": {},
   "source": [
    "## Row Picture (Graphical Representation)\n",
    "\n",
    "We have list of linear equations\n",
    "let's plot those equations in cartesian plane."
   ]
  },
  {
   "cell_type": "code",
   "execution_count": 9,
   "metadata": {},
   "outputs": [],
   "source": [
    "# help(plot_implicit)"
   ]
  },
  {
   "cell_type": "code",
   "execution_count": 10,
   "metadata": {},
   "outputs": [
    {
     "data": {
      "image/png": "[encoded data removed]",
      "text/plain": [
       "<Figure size 640x480 with 1 Axes>"
      ]
     },
     "metadata": {},
     "output_type": "display_data"
    }
   ],
   "source": [
    "from sympy import plot_implicit\n",
    "plot_eq1 = plot_implicit(eq1, show=False)\n",
    "plot_eq2 = plot_implicit(eq2, show=False)\n",
    "\n",
    "plot_eq1.extend(plot_eq2)\n",
    "plot_eq1.show()"
   ]
  },
  {
   "cell_type": "markdown",
   "metadata": {},
   "source": [
    "Easy peasy, just plot the lines."
   ]
  },
  {
   "cell_type": "markdown",
   "metadata": {},
   "source": [
    "## Column Pictures (Vector Representation)\n",
    "\n",
    "Now if we rewrite the equations in matrix form.\n",
    "\n",
    "$$\n",
    "\\begin{bmatrix}\n",
    "2 & 1 \\\\\n",
    "1 & -2 \n",
    "\\end{bmatrix}\n",
    "\\begin{bmatrix}\n",
    "x \\\\\n",
    "y\n",
    "\\end{bmatrix}\n",
    "=\n",
    "\\begin{bmatrix}\n",
    "3 \\\\\n",
    "-1\n",
    "\\end{bmatrix}\n",
    "$$\n",
    "\n",
    "We can also represent the system using column vectors like this:\n",
    "\n",
    "$$\n",
    "x\\begin{bmatrix}\n",
    "2 \\\\\n",
    "1\n",
    "\\end{bmatrix}\n",
    "+\n",
    "y\\begin{bmatrix}\n",
    "1 \\\\\n",
    "-2\n",
    "\\end{bmatrix}\n",
    "=\n",
    "\\begin{bmatrix}\n",
    "3 \\\\\n",
    "-1\n",
    "\\end{bmatrix}\n",
    "$$\n",
    "\n",
    "## Representing the System as Ax = b\n",
    "\n",
    "We can concisely express the system of linear equations in the matrix form **Ax = b**, where:\n",
    "\n",
    "*   **A** is the *coefficient matrix*:\n",
    "    $$\n",
    "    A = \\begin{bmatrix}\n",
    "    2 & 1 \\\\\n",
    "    1 & -2 \n",
    "    \\end{bmatrix}\n",
    "    $$\n",
    "\n",
    "*   **x** is the *vector of unknowns*:\n",
    "    $$\n",
    "    x = \\begin{bmatrix}\n",
    "    x \\\\\n",
    "    y\n",
    "    \\end{bmatrix}\n",
    "    $$\n",
    "\n",
    "*   **b** is the *constant vector* (or *result vector*):\n",
    "    $$\n",
    "    b = \\begin{bmatrix}\n",
    "    3 \\\\\n",
    "    -1\n",
    "    \\end{bmatrix}\n",
    "    $$\n",
    "\n",
    "Thus, our system of equations is equivalent to:\n",
    "\n",
    "$$\n",
    "\\begin{bmatrix}\n",
    "2 & 1 \\\\\n",
    "1 & -2 \n",
    "\\end{bmatrix}\n",
    "\\begin{bmatrix}\n",
    "x \\\\\n",
    "y\n",
    "\\end{bmatrix}\n",
    "=\n",
    "\\begin{bmatrix}\n",
    "3 \\\\\n",
    "-1\n",
    "\\end{bmatrix}\n",
    "$$\n",
    "\n",
    "Which is in the form **Ax = b**. This representation is fundamental in linear algebra as it allows us to use powerful matrix operations to solve systems of equations."
   ]
  },
  {
   "cell_type": "code",
   "execution_count": 11,
   "metadata": {},
   "outputs": [],
   "source": [
    "# numpy is most popular linear algebra library in Python ecosystem\n",
    "import numpy as np \n",
    "# write Ax = b in matrix form\n",
    "col1 = np.array([2, 1])\n",
    "col2 = np.array([1, -2])\n",
    "b = np.array([3, -1])\n",
    "A = np.column_stack((col1, col2))"
   ]
  },
  {
   "cell_type": "code",
   "execution_count": 12,
   "metadata": {},
   "outputs": [
    {
     "data": {
      "text/plain": [
       "array([[ 2,  1],\n",
       "       [ 1, -2]])"
      ]
     },
     "execution_count": 12,
     "metadata": {},
     "output_type": "execute_result"
    }
   ],
   "source": [
    "A"
   ]
  },
  {
   "cell_type": "code",
   "execution_count": 13,
   "metadata": {},
   "outputs": [
    {
     "data": {
      "text/plain": [
       "array([ 3, -1])"
      ]
     },
     "execution_count": 13,
     "metadata": {},
     "output_type": "execute_result"
    }
   ],
   "source": [
    "b"
   ]
  },
  {
   "cell_type": "markdown",
   "metadata": {},
   "source": [
    "In numpy you can use `np.linalg.solve` to solve the system of equations."
   ]
  },
  {
   "cell_type": "code",
   "execution_count": 14,
   "metadata": {},
   "outputs": [
    {
     "data": {
      "text/plain": [
       "array([1., 1.])"
      ]
     },
     "execution_count": 14,
     "metadata": {},
     "output_type": "execute_result"
    }
   ],
   "source": [
    "x = np.linalg.solve(A, b)\n",
    "x"
   ]
  },
  {
   "cell_type": "code",
   "execution_count": 15,
   "metadata": {},
   "outputs": [],
   "source": [
    "# help(plt.arrow)"
   ]
  },
  {
   "cell_type": "markdown",
   "metadata": {},
   "source": [
    "But that's not the main point here.   \n",
    "Let's visualize the system of equations as column vectors representation."
   ]
  },
  {
   "cell_type": "code",
   "execution_count": 16,
   "metadata": {},
   "outputs": [
    {
     "name": "stderr",
     "output_type": "stream",
     "text": [
      "/var/folders/tc/5nkzd61n29s6sv95pcw358g00000gn/T/ipykernel_57189/1500341335.py:14: UserWarning: No artists with labels found to put in legend.  Note that artists whose label start with an underscore are ignored when legend() is called with no argument.\n",
      "  plt.legend()\n"
     ]
    },
    {
     "data": {
      "image/png": "[encoded data removed]",
      "text/plain": [
       "<Figure size 640x480 with 1 Axes>"
      ]
     },
     "metadata": {},
     "output_type": "display_data"
    }
   ],
   "source": [
    "# inferred arrow1, arrow2 from vector col1, col2\n",
    "arrow1 = plt.arrow(0, 0, col1[0], col1[1], head_width=0.1, head_length=0.1, fc='r', ec='r')\n",
    "arrow2 = plt.arrow(0, 0, col2[0], col2[1], head_width=0.1, head_length=0.1, fc='b', ec='b')\n",
    "# target vector that we want to reach\n",
    "target_arrow = plt.arrow(0, 0, b[0], b[1], head_width=0.1, head_length=0.1, fc='g', ec='g')\n",
    "\n",
    "# plot the arrows\n",
    "plt.xlim(-4, 4)\n",
    "plt.ylim(-4, 4)\n",
    "plt.grid()\n",
    "plt.gca().add_patch(arrow1)\n",
    "plt.gca().add_patch(arrow2)\n",
    "plt.gca().add_patch(target_arrow)\n",
    "plt.legend()\n",
    "plt.show()"
   ]
  },
  {
   "cell_type": "code",
   "execution_count": 17,
   "metadata": {},
   "outputs": [
    {
     "name": "stdout",
     "output_type": "stream",
     "text": [
      "x = 1.0, y = 1.0\n"
     ]
    }
   ],
   "source": [
    "x_val, y_val = x[0], x[1]\n",
    "print(f\"x = {x_val}, y = {y_val}\")"
   ]
  },
  {
   "cell_type": "markdown",
   "metadata": {},
   "source": [
    "## Visualizing and Understanding Vector Addition\n",
    "\n",
    "### Geometric and Algebraic Interpretations of Vector Addition\n",
    "\n",
    "Vector addition is a fundamental operation in linear algebra where two or more vectors are combined to produce a resultant vector, known as the vector sum. We can understand this operation through two primary perspectives: geometric (using the parallelogram law) and algebraic.\n",
    "\n",
    "#### Geometric Interpretation: The Parallelogram Law\n",
    "\n",
    "Geometrically, vector addition can be visualized using the **parallelogram law**.  If we represent two vectors as the sides of a parallelogram, their sum is represented by the diagonal of that parallelogram originating from the same point as the two vectors.\n",
    "\n",
    "#### Algebraic Interpretation: Component-wise Addition\n",
    "\n",
    "Algebraically, vector addition is performed **component-wise**. This means we add the corresponding components of the vectors to obtain the components of the resultant vector.\n",
    "\n",
    "**Example:**\n",
    "\n",
    "Let's say we have two vectors, **u** and **v**:\n",
    "\n",
    "$$\n",
    "\\mathbf{u} = \\begin{bmatrix} u_1 \\\\ u_2 \\end{bmatrix}, \\quad\n",
    "\\mathbf{v} = \\begin{bmatrix} v_1 \\\\ v_2 \\end{bmatrix}\n",
    "$$\n",
    "\n",
    "Their sum, **w** = **u** + **v**, is calculated as follows:\n",
    "\n",
    "$$\n",
    "\\mathbf{w} = \\mathbf{u} + \\mathbf{v} = \\begin{bmatrix} u_1 \\\\ u_2 \\end{bmatrix} + \\begin{bmatrix} v_1 \\\\ v_2 \\end{bmatrix} = \\begin{bmatrix} u_1 + v_1 \\\\ u_2 + v_2 \\end{bmatrix}\n",
    "$$\n",
    "\n",
    "**In essence:**\n",
    "\n",
    "*   The first component of **w** is the sum of the first components of **u** and **v** ($u_1 + v_1$).\n",
    "*   The second component of **w** is the sum of the second components of **u** and **v** ($u_2 + v_2$).\n",
    "\n",
    "This component-wise addition extends to vectors of any dimension.  For example, if **u** and **v** were three-dimensional vectors, we would add their corresponding x, y, and z components to get the resultant vector's x, y, and z components.\n"
   ]
  },
  {
   "cell_type": "code",
   "execution_count": 18,
   "metadata": {},
   "outputs": [
    {
     "name": "stderr",
     "output_type": "stream",
     "text": [
      "/var/folders/tc/5nkzd61n29s6sv95pcw358g00000gn/T/ipykernel_57189/2025439124.py:16: UserWarning: No artists with labels found to put in legend.  Note that artists whose label start with an underscore are ignored when legend() is called with no argument.\n",
      "  plt.legend()\n"
     ]
    },
    {
     "data": {
      "image/png": "[encoded data removed]",
      "text/plain": [
       "<Figure size 640x480 with 1 Axes>"
      ]
     },
     "metadata": {},
     "output_type": "display_data"
    }
   ],
   "source": [
    "base_arrow1 = plt.arrow(0, 0, col1[0], col1[1], head_width=0.1, head_length=0.1, fc='r', ec='r')\n",
    "extend_arrow2 = plt.arrow(col1[0], col1[1], col2[0], col2[1], head_width=0.1, head_length=0.1, fc='b', ec='b')\n",
    "# target_arrow remain unchanged\n",
    "# but we cannot use pyarrow in multiple plots\n",
    "target_arrow_repl = plt.arrow(0, 0, b[0], b[1], head_width=0.1, head_length=0.1, fc='g', ec='g')\n",
    "\n",
    "\n",
    "\n",
    "# plot the arrows\n",
    "plt.xlim(-4, 4)\n",
    "plt.ylim(-4, 4)\n",
    "plt.grid()\n",
    "plt.gca().add_patch(base_arrow1)\n",
    "plt.gca().add_patch(extend_arrow2)\n",
    "plt.gca().add_patch(target_arrow_repl)\n",
    "plt.legend()\n",
    "plt.show()"
   ]
  },
  {
   "cell_type": "markdown",
   "metadata": {},
   "source": [
    "Great! You just learned about the geometric and algebraic interpretations of vector addition. Now, let's visualize vector addition using Python"
   ]
  },
  {
   "cell_type": "markdown",
   "metadata": {},
   "source": [
    "# Looking Ahead: Connecting Simple Equations to Linear Algebra\n",
    "\n",
    "In basic algebra, we solve equations like  `ax = b` by dividing both sides by `a` (or equivalently, multiplying by `a`<sup>-1</sup>), yielding `x = b/a` or `x = a`<sup>-1</sup>`b`.\n",
    "\n",
    "This seemingly simple operation foreshadows concepts we'll explore in linear algebra.  When dealing with systems of equations represented as **Ax = b**, where **A** is a matrix and **x** and **b** are vectors, we'll learn about the concept of a matrix inverse (**A**<sup>-1</sup>).  If **A**<sup>-1</sup> exists, we can solve for **x** in a similar fashion:\n",
    "\n",
    "**x** = **A**<sup>-1</sup>**b**\n",
    "\n",
    "However, not all matrices have inverses.  We'll delve into the conditions for invertibility and explore alternative methods for solving systems when **A**<sup>-1</sup> doesn't exist. This sets the stage for understanding concepts like matrix invertibility, determinants, and various methods for solving systems of linear equations."
   ]
  }
 ],
 "metadata": {
  "kernelspec": {
   "display_name": "datasci",
   "language": "python",
   "name": "python3"
  },
  "language_info": {
   "codemirror_mode": {
    "name": "ipython",
    "version": 3
   },
   "file_extension": ".py",
   "mimetype": "text/x-python",
   "name": "python",
   "nbconvert_exporter": "python",
   "pygments_lexer": "ipython3",
   "version": "3.12.5"
  }
 },
 "nbformat": 4,
 "nbformat_minor": 2
}
